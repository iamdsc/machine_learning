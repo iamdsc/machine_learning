{
 "cells": [
  {
   "cell_type": "code",
   "execution_count": 11,
   "metadata": {},
   "outputs": [],
   "source": [
    "import bs4 as bs\n",
    "import datetime as dt\n",
    "import os\n",
    "import pandas as pd\n",
    "import matplotlib.pyplot as plt\n",
    "from matplotlib import style\n",
    "import pandas_datareader.data as web\n",
    "import pickle\n",
    "import requests\n",
    "import numpy as np\n",
    "\n",
    "style.use('ggplot')\n",
    "\n",
    "def save_sp500_tickers():\n",
    "    resp = requests.get('https://en.wikipedia.org/wiki/List_of_S%26P_500_companies')\n",
    "    soup = bs.BeautifulSoup(resp.text, 'lxml')\n",
    "    table = soup.find('table', {'class':'wikitable sortable'})\n",
    "    tickers = []\n",
    "    for row in table.findAll('tr')[1:]:\n",
    "        ticker = row.findAll('td')[1].text\n",
    "        tickers.append(ticker)\n",
    "    \n",
    "    with open('sp500tickers.pickle','wb') as f:\n",
    "        pickle.dump(tickers, f)\n",
    "        \n",
    "    print(tickers)\n",
    "    \n",
    "    return tickers\n",
    "\n",
    "#save_sp500_tickers()"
   ]
  },
  {
   "cell_type": "code",
   "execution_count": 7,
   "metadata": {},
   "outputs": [
    {
     "name": "stdout",
     "output_type": "stream",
     "text": [
      "MMM\n",
      "ABT\n",
      "ABBV\n",
      "ABMD\n",
      "ACN\n",
      "ATVI\n",
      "ADBE\n",
      "AMD\n",
      "AAP\n",
      "AES\n",
      "AMG\n",
      "AFL\n",
      "A\n",
      "APD\n",
      "AKAM\n",
      "ALK\n",
      "ALB\n",
      "ARE\n",
      "ALXN\n",
      "ALGN\n",
      "ALLE\n",
      "AGN\n",
      "ADS\n",
      "LNT\n",
      "ALL\n"
     ]
    }
   ],
   "source": [
    "# getting data from yahoo\n",
    "def get_data_from_yahoo(reload_sp500=False):\n",
    "    if reload_sp500:\n",
    "        tickers = save_sp500_tickers()\n",
    "    else:\n",
    "        with open('sp500tickers.pickle', 'rb') as f:\n",
    "            tickers = pickle.load(f)\n",
    "    if not os.path.exists('stock_dfs'):\n",
    "        os.makedirs('stock_dfs')\n",
    "        \n",
    "    start = dt.datetime(2000, 1, 1)\n",
    "    end = dt.datetime(2016, 12, 31)\n",
    "    \n",
    "    for ticker in tickers[:25]:\n",
    "        print(ticker)\n",
    "        if not os.path.exists('stock_dfs/{}.csv'.format(ticker)):\n",
    "            df = web.DataReader(ticker, 'yahoo', start, end)\n",
    "            df.to_csv('stock_dfs/{}.csv'.format(ticker))\n",
    "        else:\n",
    "            print('Already have {}'.format(ticker))\n",
    "\n",
    "get_data_from_yahoo()"
   ]
  },
  {
   "cell_type": "code",
   "execution_count": 5,
   "metadata": {},
   "outputs": [
    {
     "name": "stdout",
     "output_type": "stream",
     "text": [
      "0\n",
      "10\n",
      "20\n",
      "                  MMM       ABT  ABBV      ABMD  ACN      ATVI       ADBE  \\\n",
      "Date                                                                        \n",
      "1999-12-31  28.304659  6.950151   NaN  18.37500  NaN  1.151060  16.561329   \n",
      "2000-01-03  27.292488  6.698944   NaN  18.25000  NaN  1.235628  16.145748   \n",
      "2000-01-04  26.208023  6.507545   NaN  17.81250  NaN  1.198042  14.791295   \n",
      "2000-01-05  26.967150  6.495581   NaN  18.00000  NaN  1.202740  15.083735   \n",
      "2000-01-06  29.136089  6.722870   NaN  18.03125  NaN  1.179249  15.206868   \n",
      "\n",
      "                 AMD  AAP        AES    ...           ALK       ALB  \\\n",
      "Date                                    ...                           \n",
      "1999-12-31  14.46875  NaN  30.397175    ...      7.913406  6.018779   \n",
      "2000-01-03  15.50000  NaN  29.482208    ...      7.885243  5.646281   \n",
      "2000-01-04  14.62500  NaN  28.313084    ...      7.786678  5.646281   \n",
      "2000-01-05  15.00000  NaN  28.618069    ...      7.828921  5.744305   \n",
      "2000-01-06  16.00000  NaN  28.846809    ...      7.835950  5.940357   \n",
      "\n",
      "                  ARE     ALXN  ALGN  ALLE        AGN  ADS       LNT  \\\n",
      "Date                                                                   \n",
      "1999-12-31  15.887674  7.53125   NaN   NaN  30.589914  NaN  2.604055   \n",
      "2000-01-03  15.606757  7.37500   NaN   NaN  29.895905  NaN  2.538955   \n",
      "2000-01-04  15.263406  6.93750   NaN   NaN  28.934965  NaN  2.538955   \n",
      "2000-01-05  14.982487  7.28125   NaN   NaN  29.468832  NaN  2.663239   \n",
      "2000-01-06  14.701564  7.75000   NaN   NaN  29.895905  NaN  2.663239   \n",
      "\n",
      "                  ALL  \n",
      "Date                   \n",
      "1999-12-31  15.045066  \n",
      "2000-01-03  14.693353  \n",
      "2000-01-04  14.224422  \n",
      "2000-01-05  14.849663  \n",
      "2000-01-06  14.771514  \n",
      "\n",
      "[5 rows x 25 columns]\n"
     ]
    }
   ],
   "source": [
    "# combining into one dataframe\n",
    "def compile_data():\n",
    "    with open('sp500tickers.pickle','rb') as f:\n",
    "        tickers = pickle.load(f)\n",
    "    \n",
    "    main_df = pd.DataFrame()\n",
    "    \n",
    "    for count, ticker in enumerate(tickers[:25]):\n",
    "        df = pd.read_csv('stock_dfs/{}.csv'.format(ticker))\n",
    "        df.set_index('Date', inplace=True)\n",
    "        \n",
    "        df.rename(columns={'Adj Close': ticker}, inplace=True)\n",
    "        df.drop(['Open', 'High', 'Low', 'Close', 'Volume'], 1, inplace=True)\n",
    "        \n",
    "        if main_df.empty:\n",
    "            main_df = df\n",
    "            \n",
    "        else:\n",
    "            main_df = main_df.join(df, how='outer')\n",
    "        \n",
    "        if count % 10 == 0:\n",
    "            print(count)\n",
    "    print(main_df.head())\n",
    "    main_df.to_csv('sp500_joined_closes.csv')\n",
    "\n",
    "compile_data()"
   ]
  },
  {
   "cell_type": "code",
   "execution_count": 13,
   "metadata": {},
   "outputs": [
    {
     "data": {
      "image/png": "[encoded data removed]",
      "text/plain": [
       "<matplotlib.figure.Figure at 0x1718a18fa20>"
      ]
     },
     "metadata": {},
     "output_type": "display_data"
    }
   ],
   "source": [
    "# visualizing the correlations\n",
    "def visualize_data():\n",
    "    df = pd.read_csv('sp500_joined_closes.csv')\n",
    "    \n",
    "    df_corr = df.corr() # calculates correlation values\n",
    "    #print(df_corr.head())\n",
    "    \n",
    "    data = df_corr.values\n",
    "    fig = plt.figure()\n",
    "    ax = fig.add_subplot(1,1,1)\n",
    "    \n",
    "    heatmap = ax.pcolor(data, cmap=plt.cm.RdYlGn)\n",
    "    fig.colorbar(heatmap)\n",
    "    \n",
    "    ax.set_xticks(np.arange(data.shape[0]) + 0.5, minor=False)\n",
    "    ax.set_yticks(np.arange(data.shape[1]) + 0.5, minor=False)\n",
    "    ax.invert_yaxis()\n",
    "    ax.xaxis.tick_top()\n",
    "    \n",
    "    column_labels = df_corr.columns\n",
    "    row_labels = df_corr.index\n",
    "    \n",
    "    ax.set_xticklabels(column_labels)\n",
    "    ax.set_yticklabels(row_labels)\n",
    "    plt.xticks(rotation=90)\n",
    "    heatmap.set_clim(-1,1)\n",
    "    \n",
    "    plt.tight_layout()\n",
    "    plt.show()\n",
    "\n",
    "visualize_data()"
   ]
  },
  {
   "cell_type": "code",
   "execution_count": null,
   "metadata": {},
   "outputs": [],
   "source": []
  }
 ],
 "metadata": {
  "kernelspec": {
   "display_name": "Python 3",
   "language": "python",
   "name": "python3"
  },
  "language_info": {
   "codemirror_mode": {
    "name": "ipython",
    "version": 3
   },
   "file_extension": ".py",
   "mimetype": "text/x-python",
   "name": "python",
   "nbconvert_exporter": "python",
   "pygments_lexer": "ipython3",
   "version": "3.6.2"
  }
 },
 "nbformat": 4,
 "nbformat_minor": 2
}
