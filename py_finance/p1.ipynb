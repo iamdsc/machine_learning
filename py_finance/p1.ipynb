{
 "cells": [
  {
   "cell_type": "code",
   "execution_count": 15,
   "metadata": {},
   "outputs": [],
   "source": [
    "import datetime as dt\n",
    "import matplotlib.pyplot as plt\n",
    "from matplotlib import style\n",
    "from matplotlib.finance import candlestick_ohlc\n",
    "import matplotlib.dates as mdates\n",
    "import pandas as pd\n",
    "import pandas_datareader.data as web"
   ]
  },
  {
   "cell_type": "code",
   "execution_count": 2,
   "metadata": {},
   "outputs": [
    {
     "name": "stdout",
     "output_type": "stream",
     "text": [
      "             High        Low       Open      Close    Volume  Adj Close\n",
      "Date                                                                   \n",
      "2010-06-29  25.00  17.540001  19.000000  23.889999  18766300  23.889999\n",
      "2010-06-30  30.42  23.299999  25.790001  23.830000  17187100  23.830000\n",
      "2010-07-01  25.92  20.270000  25.000000  21.959999   8218800  21.959999\n",
      "2010-07-02  23.10  18.709999  23.000000  19.200001   5139800  19.200001\n",
      "2010-07-06  20.00  15.830000  20.000000  16.110001   6866900  16.110001\n"
     ]
    }
   ],
   "source": [
    "style.use('ggplot')\n",
    "\n",
    "start = dt.datetime(2000, 1, 1)\n",
    "end = dt.datetime(2016, 12, 31)\n",
    "\n",
    "# using yahoo finance api\n",
    "df = web.DataReader('TSLA', 'yahoo', start, end)\n",
    "\n",
    "print(df.head())"
   ]
  },
  {
   "cell_type": "code",
   "execution_count": 3,
   "metadata": {},
   "outputs": [],
   "source": [
    "# convert to csv file\n",
    "df.to_csv('tesla.csv')"
   ]
  },
  {
   "cell_type": "code",
   "execution_count": 5,
   "metadata": {},
   "outputs": [
    {
     "data": {
      "text/html": [
       "<div>\n",
       "<style scoped>\n",
       "    .dataframe tbody tr th:only-of-type {\n",
       "        vertical-align: middle;\n",
       "    }\n",
       "\n",
       "    .dataframe tbody tr th {\n",
       "        vertical-align: top;\n",
       "    }\n",
       "\n",
       "    .dataframe thead th {\n",
       "        text-align: right;\n",
       "    }\n",
       "</style>\n",
       "<table border=\"1\" class=\"dataframe\">\n",
       "  <thead>\n",
       "    <tr style=\"text-align: right;\">\n",
       "      <th></th>\n",
       "      <th>High</th>\n",
       "      <th>Low</th>\n",
       "      <th>Open</th>\n",
       "      <th>Close</th>\n",
       "      <th>Volume</th>\n",
       "      <th>Adj Close</th>\n",
       "    </tr>\n",
       "    <tr>\n",
       "      <th>Date</th>\n",
       "      <th></th>\n",
       "      <th></th>\n",
       "      <th></th>\n",
       "      <th></th>\n",
       "      <th></th>\n",
       "      <th></th>\n",
       "    </tr>\n",
       "  </thead>\n",
       "  <tbody>\n",
       "    <tr>\n",
       "      <th>2010-06-29</th>\n",
       "      <td>25.00</td>\n",
       "      <td>17.540001</td>\n",
       "      <td>19.000000</td>\n",
       "      <td>23.889999</td>\n",
       "      <td>18766300</td>\n",
       "      <td>23.889999</td>\n",
       "    </tr>\n",
       "    <tr>\n",
       "      <th>2010-06-30</th>\n",
       "      <td>30.42</td>\n",
       "      <td>23.299999</td>\n",
       "      <td>25.790001</td>\n",
       "      <td>23.830000</td>\n",
       "      <td>17187100</td>\n",
       "      <td>23.830000</td>\n",
       "    </tr>\n",
       "    <tr>\n",
       "      <th>2010-07-01</th>\n",
       "      <td>25.92</td>\n",
       "      <td>20.270000</td>\n",
       "      <td>25.000000</td>\n",
       "      <td>21.959999</td>\n",
       "      <td>8218800</td>\n",
       "      <td>21.959999</td>\n",
       "    </tr>\n",
       "    <tr>\n",
       "      <th>2010-07-02</th>\n",
       "      <td>23.10</td>\n",
       "      <td>18.709999</td>\n",
       "      <td>23.000000</td>\n",
       "      <td>19.200001</td>\n",
       "      <td>5139800</td>\n",
       "      <td>19.200001</td>\n",
       "    </tr>\n",
       "    <tr>\n",
       "      <th>2010-07-06</th>\n",
       "      <td>20.00</td>\n",
       "      <td>15.830000</td>\n",
       "      <td>20.000000</td>\n",
       "      <td>16.110001</td>\n",
       "      <td>6866900</td>\n",
       "      <td>16.110001</td>\n",
       "    </tr>\n",
       "  </tbody>\n",
       "</table>\n",
       "</div>"
      ],
      "text/plain": [
       "             High        Low       Open      Close    Volume  Adj Close\n",
       "Date                                                                   \n",
       "2010-06-29  25.00  17.540001  19.000000  23.889999  18766300  23.889999\n",
       "2010-06-30  30.42  23.299999  25.790001  23.830000  17187100  23.830000\n",
       "2010-07-01  25.92  20.270000  25.000000  21.959999   8218800  21.959999\n",
       "2010-07-02  23.10  18.709999  23.000000  19.200001   5139800  19.200001\n",
       "2010-07-06  20.00  15.830000  20.000000  16.110001   6866900  16.110001"
      ]
     },
     "execution_count": 5,
     "metadata": {},
     "output_type": "execute_result"
    }
   ],
   "source": [
    "# reading in the csv file\n",
    "df = pd.read_csv('tesla.csv', parse_dates=True, index_col=0)\n",
    "df.head()"
   ]
  },
  {
   "cell_type": "code",
   "execution_count": 8,
   "metadata": {},
   "outputs": [
    {
     "data": {
      "image/png": "[encoded data removed]",
      "text/plain": [
       "<matplotlib.figure.Figure at 0x2019ca02a90>"
      ]
     },
     "metadata": {},
     "output_type": "display_data"
    }
   ],
   "source": [
    "%matplotlib inline\n",
    "df['Adj Close'].plot() # to plot a column\n",
    "plt.show()"
   ]
  },
  {
   "cell_type": "code",
   "execution_count": 9,
   "metadata": {},
   "outputs": [
    {
     "name": "stdout",
     "output_type": "stream",
     "text": [
      "             High        Low       Open      Close    Volume  Adj Close  100ma\n",
      "Date                                                                          \n",
      "2010-06-29  25.00  17.540001  19.000000  23.889999  18766300  23.889999    NaN\n",
      "2010-06-30  30.42  23.299999  25.790001  23.830000  17187100  23.830000    NaN\n",
      "2010-07-01  25.92  20.270000  25.000000  21.959999   8218800  21.959999    NaN\n",
      "2010-07-02  23.10  18.709999  23.000000  19.200001   5139800  19.200001    NaN\n",
      "2010-07-06  20.00  15.830000  20.000000  16.110001   6866900  16.110001    NaN\n"
     ]
    }
   ],
   "source": [
    "# data manipulation\n",
    "\n",
    "# calculate 100 moving average\n",
    "df['100ma'] = df['Adj Close'].rolling(window=100).mean()\n",
    "\n",
    "print(df.head())"
   ]
  },
  {
   "cell_type": "code",
   "execution_count": 10,
   "metadata": {},
   "outputs": [
    {
     "name": "stdout",
     "output_type": "stream",
     "text": [
      "                 High        Low       Open      Close   Volume  Adj Close  \\\n",
      "Date                                                                         \n",
      "2010-11-17  30.750000  28.610001  30.200001  29.490000   750000  29.490000   \n",
      "2010-11-18  30.740000  28.920000  30.670000  29.889999   956100  29.889999   \n",
      "2010-11-19  31.370001  29.700001  30.160000  30.990000  1150500  30.990000   \n",
      "2010-11-22  33.450001  31.500000  31.570000  33.400002  1529700  33.400002   \n",
      "2010-11-23  35.680000  32.189999  33.290001  34.570000  1577800  34.570000   \n",
      "\n",
      "              100ma  \n",
      "Date                 \n",
      "2010-11-17  20.9879  \n",
      "2010-11-18  21.0479  \n",
      "2010-11-19  21.1195  \n",
      "2010-11-22  21.2339  \n",
      "2010-11-23  21.3876  \n"
     ]
    }
   ],
   "source": [
    "# removing NaN rows\n",
    "new_df = df.dropna()\n",
    "print(new_df.head())"
   ]
  },
  {
   "cell_type": "code",
   "execution_count": 12,
   "metadata": {},
   "outputs": [
    {
     "data": {
      "image/png": "[encoded data removed]",
      "text/plain": [
       "<matplotlib.figure.Figure at 0x2019ed9ddd8>"
      ]
     },
     "metadata": {},
     "output_type": "display_data"
    }
   ],
   "source": [
    "# plotting the data\n",
    "ax1 = plt.subplot2grid((6,1), (0,0), rowspan=5, colspan=1)\n",
    "ax2 = plt.subplot2grid((6,1), (5,0), rowspan=1, colspan=1, sharex=ax1)\n",
    "\n",
    "ax1.plot(new_df.index, new_df['Adj Close'])\n",
    "ax1.plot(new_df.index, new_df['100ma'])\n",
    "\n",
    "ax2.bar(new_df.index, new_df['Volume'])\n",
    "\n",
    "plt.show()"
   ]
  },
  {
   "cell_type": "code",
   "execution_count": 13,
   "metadata": {},
   "outputs": [
    {
     "name": "stdout",
     "output_type": "stream",
     "text": [
      "                 open       high        low      close\n",
      "Date                                                  \n",
      "2010-06-29  23.889999  23.889999  15.800000  17.459999\n",
      "2010-07-09  17.400000  20.639999  17.049999  20.639999\n",
      "2010-07-19  21.910000  21.910000  20.219999  20.719999\n",
      "2010-07-29  20.350000  21.950001  19.590000  19.590000\n",
      "2010-08-08  19.600000  19.600000  17.600000  19.150000\n"
     ]
    }
   ],
   "source": [
    "# resampling data\n",
    "# open, high, low, close\n",
    "df_ohlc = df['Adj Close'].resample('10D').ohlc()\n",
    "df_volume = df['Volume'].resample('10D').sum()\n",
    "print(df_ohlc.head())"
   ]
  },
  {
   "cell_type": "code",
   "execution_count": 16,
   "metadata": {
    "scrolled": true
   },
   "outputs": [
    {
     "name": "stdout",
     "output_type": "stream",
     "text": [
      "       Date       open       high        low      close\n",
      "0  733952.0  23.889999  23.889999  15.800000  17.459999\n",
      "1  733962.0  17.400000  20.639999  17.049999  20.639999\n",
      "2  733972.0  21.910000  21.910000  20.219999  20.719999\n",
      "3  733982.0  20.350000  21.950001  19.590000  19.590000\n",
      "4  733992.0  19.600000  19.600000  17.600000  19.150000\n"
     ]
    }
   ],
   "source": [
    "# using matplotlib candlestick_ohlc\n",
    "# it requires dates to be in matplotlib.dates format\n",
    "df_ohlc.reset_index(inplace=True)\n",
    "df_ohlc['Date'] = df_ohlc['Date'].map(mdates.date2num)\n",
    "print(df_ohlc.head())"
   ]
  },
  {
   "cell_type": "code",
   "execution_count": 17,
   "metadata": {},
   "outputs": [
    {
     "data": {
      "image/png": "[encoded data removed]",
      "text/plain": [
       "<matplotlib.figure.Figure at 0x201a1d48cf8>"
      ]
     },
     "metadata": {},
     "output_type": "display_data"
    }
   ],
   "source": [
    "# plot the data\n",
    "ax1 = plt.subplot2grid((6,1), (0,0), rowspan=5, colspan=1)\n",
    "ax2 = plt.subplot2grid((6,1), (5,0), rowspan=1, colspan=1, sharex=ax1)\n",
    "ax1.xaxis_date()\n",
    "\n",
    "candlestick_ohlc(ax1, df_ohlc.values, width=2, colorup='g')\n",
    "ax2.fill_between(df_volume.index.map(mdates.date2num), df_volume.values, 0)\n",
    "plt.show()"
   ]
  },
  {
   "cell_type": "code",
   "execution_count": null,
   "metadata": {},
   "outputs": [],
   "source": []
  }
 ],
 "metadata": {
  "kernelspec": {
   "display_name": "Python 3",
   "language": "python",
   "name": "python3"
  },
  "language_info": {
   "codemirror_mode": {
    "name": "ipython",
    "version": 3
   },
   "file_extension": ".py",
   "mimetype": "text/x-python",
   "name": "python",
   "nbconvert_exporter": "python",
   "pygments_lexer": "ipython3",
   "version": "3.6.2"
  }
 },
 "nbformat": 4,
 "nbformat_minor": 2
}
